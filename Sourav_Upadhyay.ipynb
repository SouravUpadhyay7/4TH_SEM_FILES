{
  "nbformat": 4,
  "nbformat_minor": 0,
  "metadata": {
    "colab": {
      "provenance": [],
      "include_colab_link": true
    },
    "kernelspec": {
      "name": "python3",
      "display_name": "Python 3"
    },
    "language_info": {
      "name": "python"
    }
  },
  "cells": [
    {
      "cell_type": "markdown",
      "metadata": {
        "id": "view-in-github",
        "colab_type": "text"
      },
      "source": [
        "<a href=\"https://colab.research.google.com/github/SouravUpadhyay7/4TH_SEM_FILES/blob/main/Sourav_Upadhyay.ipynb\" target=\"_parent\"><img src=\"https://colab.research.google.com/assets/colab-badge.svg\" alt=\"Open In Colab\"/></a>"
      ]
    },
    {
      "cell_type": "code",
      "source": [
        "# 17/10/2025\n",
        "\n",
        "# write a program to check vowels or not\n",
        "\n",
        "\n",
        "n = input(\"Enter the alphabet to be tested: \")\n",
        "\n",
        "if n in ('a','e','i','o','u','A','E','I','O','U'):\n",
        "  print(n,\"is a vowel.\")\n",
        "else:\n",
        "  print(n,\"is a consonant.\")\n"
      ],
      "metadata": {
        "colab": {
          "base_uri": "https://localhost:8080/"
        },
        "id": "-KxxDpK17MgX",
        "outputId": "eede3edc-0aad-4a0b-c048-ac24251a0f04"
      },
      "execution_count": null,
      "outputs": [
        {
          "output_type": "stream",
          "name": "stdout",
          "text": [
            "Enter the alphabet to be tested: y\n",
            "y is a consonant.\n"
          ]
        }
      ]
    },
    {
      "cell_type": "code",
      "source": [
        "# 17/10/2025\n",
        "\n",
        "# write a program to perform length of a list\n",
        "inp_list = ['Python','Java','C','C++','JavaScript']\n",
        "size = len(inp_list)\n",
        "print(\"Size of the list =\", size)"
      ],
      "metadata": {
        "colab": {
          "base_uri": "https://localhost:8080/"
        },
        "id": "qvNGrYhI7Mcv",
        "outputId": "d1ed61f0-9a5e-46bf-cd2f-d97e962bafa2"
      },
      "execution_count": null,
      "outputs": [
        {
          "output_type": "stream",
          "name": "stdout",
          "text": [
            "Size of the list = 5\n"
          ]
        }
      ]
    },
    {
      "cell_type": "code",
      "source": [
        "# 17/10/2025\n",
        "\n",
        "\n",
        "# write a program to check sides of a triangle\n",
        "\n",
        "\n",
        "\n",
        "print(\"Enter the sides of the triangle:\")\n",
        "\n",
        "a = float(input(\"1st side: \"))\n",
        "b = float(input(\"2nd side: \"))\n",
        "c = float(input(\"3rd side: \"))\n",
        "\n",
        "if a > 0 and b > 0 and c > 0:\n",
        "  if a != b and b != c and a != c:\n",
        "    print(\"Scalene\")\n",
        "  elif a == b == c:\n",
        "    print(\"Equilateral\")\n",
        "  elif a == b or b == c or a == c:\n",
        "    print(\"Iscosceles Triangle\")\n",
        "else:\n",
        "  print(\"Not a triangle.\")\n",
        "\n"
      ],
      "metadata": {
        "colab": {
          "base_uri": "https://localhost:8080/"
        },
        "id": "rEdIyeeA7MXW",
        "outputId": "8a433845-8d5a-476e-fb4a-6ca7987b9f79"
      },
      "execution_count": null,
      "outputs": [
        {
          "output_type": "stream",
          "name": "stdout",
          "text": [
            "Enter the sides of the triangle:\n",
            "1st side: 4\n",
            "2nd side: 5\n",
            "3rd side: 8\n",
            "Scalene\n"
          ]
        }
      ]
    },
    {
      "cell_type": "code",
      "source": [
        "# 17/10/2025\n",
        "\n",
        "\n",
        "# write a program to perform reverse in a list\n",
        "\n",
        "inp_list = ['Python','Java','C','C++','JavaScript']\n",
        "inp_list.reverse()\n",
        "print(inp_list)"
      ],
      "metadata": {
        "colab": {
          "base_uri": "https://localhost:8080/"
        },
        "id": "g_qac3mb7MSv",
        "outputId": "9f395ef9-349a-4e1a-f868-337294698d7e"
      },
      "execution_count": null,
      "outputs": [
        {
          "output_type": "stream",
          "name": "stdout",
          "text": [
            "['JavaScript', 'C++', 'C', 'Java', 'Python']\n"
          ]
        }
      ]
    },
    {
      "cell_type": "code",
      "source": [
        "# 17/10/2025\n",
        "\n",
        "\n",
        "# write a program to perform maximum , minimum and sum in a list\n",
        "\n",
        "list1 = [2,45,7,8,65,85,12,13]\n",
        "print(\"The maximum number is: \", max(list1))\n",
        "print(\"The minimum number is: \", min(list1))\n",
        "print(\"The mean is: \", sum(list1)/len(list1))"
      ],
      "metadata": {
        "colab": {
          "base_uri": "https://localhost:8080/"
        },
        "id": "tm7BlWXm7MN2",
        "outputId": "2a49596b-b0ad-4eee-f8f7-0855509e2436"
      },
      "execution_count": null,
      "outputs": [
        {
          "output_type": "stream",
          "name": "stdout",
          "text": [
            "The maximum number is:  85\n",
            "The minimum number is:  2\n",
            "The mean is:  29.625\n"
          ]
        }
      ]
    },
    {
      "cell_type": "code",
      "source": [],
      "metadata": {
        "id": "FGlUmhR67MIn"
      },
      "execution_count": null,
      "outputs": []
    },
    {
      "cell_type": "code",
      "source": [
        "\n",
        "#24/02/2025\n",
        "#write a python progam using BFS\n",
        "\n",
        "print(\"following is the code for BFS\")\n",
        "\n",
        "graph = {\n",
        "    5 : [3, 7],\n",
        "    3 : [2, 4],\n",
        "    7 : [8],\n",
        "    2 : [],\n",
        "    4 : [8],\n",
        "    8 : []\n",
        "}\n",
        "\n",
        "visited = []\n",
        "queue = []\n",
        "\n",
        "def bfs (visited, graph, node):\n",
        "    visited.append(node)\n",
        "    queue.append(node)\n",
        "\n",
        "    while queue:\n",
        "        m = queue.pop(0)\n",
        "        print(m, end = \" \")\n",
        "\n",
        "        for neighbour in graph[m]:\n",
        "            if neighbour not in visited:\n",
        "                visited.append(neighbour)\n",
        "                queue.append(neighbour)\n",
        "\n",
        "\n",
        "print(\"Following is the Breadth-First Search\")\n",
        "bfs(visited, graph, 5)\n"
      ],
      "metadata": {
        "colab": {
          "base_uri": "https://localhost:8080/"
        },
        "id": "VyH1YpaISUSc",
        "outputId": "36ef7ecf-f9e3-410a-decf-1cd07f1a969b"
      },
      "execution_count": null,
      "outputs": [
        {
          "output_type": "stream",
          "name": "stdout",
          "text": [
            "following is the code for BFS\n",
            "Following is the Breadth-First Search\n",
            "5 3 7 2 4 8 "
          ]
        }
      ]
    },
    {
      "cell_type": "code",
      "source": [
        "\n",
        "#24/02/2025\n",
        "#write a python progam using BFS\n",
        "\n",
        "print(\"following is the code for BFS\")\n",
        "\n",
        "graph = {\n",
        "    10 : [5, 6],\n",
        "    5 : [6],\n",
        "    6 : [2, 3, 4],\n",
        "    2 : [3, 4],\n",
        "    3 : [4],\n",
        "    4 : []\n",
        "}\n",
        "\n",
        "visited = []\n",
        "queue = []\n",
        "\n",
        "def bfs (visited, graph, node):\n",
        "    visited.append(node)\n",
        "    queue.append(node)\n",
        "\n",
        "    while queue:\n",
        "        m = queue.pop(0)\n",
        "        print(m, end = \" \")\n",
        "\n",
        "        for neighbour in graph[m]:\n",
        "            if neighbour not in visited:\n",
        "                visited.append(neighbour)\n",
        "                queue.append(neighbour)\n",
        "\n",
        "\n",
        "print(\"Following is the Breadth-First Search\")\n",
        "bfs(visited, graph, 10)\n"
      ],
      "metadata": {
        "colab": {
          "base_uri": "https://localhost:8080/"
        },
        "id": "n4X_96XeT9KC",
        "outputId": "10820233-18ed-44b4-e5d2-11bb08e49634"
      },
      "execution_count": null,
      "outputs": [
        {
          "output_type": "stream",
          "name": "stdout",
          "text": [
            "following is the code for BFS\n",
            "Following is the Breadth-First Search\n",
            "10 5 6 2 3 4 "
          ]
        }
      ]
    },
    {
      "cell_type": "code",
      "source": [
        "\n",
        "#24/02/2025\n",
        "#write a python progam using BFS\n",
        "\n",
        "print(\"following is the code for BFS\")\n",
        "\n",
        "graph = {\n",
        "    10 : [5, 6],\n",
        "    5 : [6, 2, 3],\n",
        "    6 : [2, 3, 4],\n",
        "    2 : [3, 4],\n",
        "    3 : [4, 8, 9],\n",
        "    4 : [8, 9],\n",
        "    8 : [],\n",
        "    9 : [],\n",
        "\n",
        "}\n",
        "\n",
        "visited = []\n",
        "queue = []\n",
        "\n",
        "def bfs (visited, graph, node):\n",
        "    visited.append(node)\n",
        "    queue.append(node)\n",
        "\n",
        "    while queue:\n",
        "        m = queue.pop(0)\n",
        "        print(m, end = \" \")\n",
        "\n",
        "        for neighbour in graph[m]:\n",
        "            if neighbour not in visited:\n",
        "                visited.append(neighbour)\n",
        "                queue.append(neighbour)\n",
        "\n",
        "\n",
        "print(\"Following is the Breadth-First Search\")\n",
        "bfs(visited, graph, 10)\n"
      ],
      "metadata": {
        "colab": {
          "base_uri": "https://localhost:8080/"
        },
        "id": "vIiN7Nf1VooA",
        "outputId": "6b26554c-6408-4e16-9bda-69bd7ecbe0d8"
      },
      "execution_count": null,
      "outputs": [
        {
          "output_type": "stream",
          "name": "stdout",
          "text": [
            "following is the code for BFS\n",
            "Following is the Breadth-First Search\n",
            "10 5 6 2 3 4 8 9 "
          ]
        }
      ]
    }
  ]
}